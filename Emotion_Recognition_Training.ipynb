{
  "nbformat": 4,
  "nbformat_minor": 0,
  "metadata": {
    "colab": {
      "name": "Emotion_Recognition_Training.ipynb",
      "provenance": [],
      "collapsed_sections": []
    },
    "kernelspec": {
      "name": "python3",
      "display_name": "Python 3"
    },
    "accelerator": "GPU"
  },
  "cells": [
    {
      "cell_type": "code",
      "metadata": {
        "id": "gQSlZPIafDRX",
        "colab_type": "code",
        "colab": {
          "base_uri": "https://localhost:8080/",
          "height": 34
        },
        "outputId": "acbc7115-9546-49dd-9a6f-9c067823f0b7"
      },
      "source": [
        "%tensorflow_version 1.x"
      ],
      "execution_count": 1,
      "outputs": [
        {
          "output_type": "stream",
          "text": [
            "TensorFlow 1.x selected.\n"
          ],
          "name": "stdout"
        }
      ]
    },
    {
      "cell_type": "markdown",
      "metadata": {
        "id": "wlO1tvcJFN6r",
        "colab_type": "text"
      },
      "source": [
        "**Emotion Recognition Training:**\n",
        "\n",
        "In order to perform Emotion detection, the Convolutional Neural Network Model is used to train fer2013 dataset. This file contains the following tasks:\n",
        "\n",
        "\n",
        "*   Downloading the Dataset and Analysing it\n",
        "*   Building the CNN Model for Emotion Detection\n",
        "*   Training the CNN Model\n",
        "*   Testing the model and saving the trained model as a JSON file.\n",
        "\n"
      ]
    },
    {
      "cell_type": "code",
      "metadata": {
        "id": "TM9O809Y7eb3",
        "colab_type": "code",
        "colab": {
          "base_uri": "https://localhost:8080/",
          "height": 34
        },
        "outputId": "949b2a45-9f37-4624-962e-e925487b639e"
      },
      "source": [
        "import pandas as pd\n",
        "import numpy as np\n",
        "\n",
        "\n",
        "from keras import backend as K\n",
        "\n",
        "# for the architecture\n",
        "from keras.models import Sequential\n",
        "from keras.layers import Dense, Dropout, Lambda, Flatten, BatchNormalization\n",
        "from keras.layers import Conv2D, MaxPool2D, AvgPool2D\n",
        "\n",
        "# optimizer, data generator and learning rate reductor\n",
        "from keras.optimizers import Adam\n",
        "from keras.preprocessing.image import ImageDataGenerator\n",
        "from keras.callbacks import ReduceLROnPlateau\n",
        "\n",
        "from keras.optimizers import SGD"
      ],
      "execution_count": 2,
      "outputs": [
        {
          "output_type": "stream",
          "text": [
            "Using TensorFlow backend.\n"
          ],
          "name": "stderr"
        }
      ]
    },
    {
      "cell_type": "code",
      "metadata": {
        "id": "pfeYUdf4A3RK",
        "colab_type": "code",
        "colab": {
          "base_uri": "https://localhost:8080/",
          "height": 34
        },
        "outputId": "49176e1a-1c77-44f9-9030-08fd3215bcb8"
      },
      "source": [
        "from google.colab import drive\n",
        "drive.mount('/content/drive')"
      ],
      "execution_count": 3,
      "outputs": [
        {
          "output_type": "stream",
          "text": [
            "Mounted at /content/drive\n"
          ],
          "name": "stdout"
        }
      ]
    },
    {
      "cell_type": "markdown",
      "metadata": {
        "id": "u0e5NoSjgc2c",
        "colab_type": "text"
      },
      "source": [
        "**Downloading and Analysing the DataSet**\n",
        "\n",
        "The fer2013 is an open-source dataset. It has 48x48 pixel grayscale images of faces. The dataset is divided into three categories:\n",
        "* training set\n",
        "* validation set (Public Testing)\n",
        "* test set (Private Testing)\n",
        "\n",
        "To analyze the data set, first load the downloaded dataset using Pandas. The dataset has seven categories of Emotions - (0 - Angry, 1 - Disgust, 2 - Fear, 3 - Happy, 4 - Sad, 5 - Surprise and 6 - Neutral). It can be visualized using sarborn and matplotlib modules."
      ]
    },
    {
      "cell_type": "code",
      "metadata": {
        "id": "08LCdPZZ8kko",
        "colab_type": "code",
        "colab": {
          "base_uri": "https://localhost:8080/",
          "height": 260
        },
        "outputId": "12fe8049-5a39-4393-a235-af4f4553af25"
      },
      "source": [
        "emotion_data = pd.read_csv('/content/drive/My Drive/ER_training/fer2013.csv')\n",
        "print(emotion_data)"
      ],
      "execution_count": 4,
      "outputs": [
        {
          "output_type": "stream",
          "text": [
            "       emotion                                             pixels        Usage\n",
            "0            0  70 80 82 72 58 58 60 63 54 58 60 48 89 115 121...     Training\n",
            "1            0  151 150 147 155 148 133 111 140 170 174 182 15...     Training\n",
            "2            2  231 212 156 164 174 138 161 173 182 200 106 38...     Training\n",
            "3            4  24 32 36 30 32 23 19 20 30 41 21 22 32 34 21 1...     Training\n",
            "4            6  4 0 0 0 0 0 0 0 0 0 0 0 3 15 23 28 48 50 58 84...     Training\n",
            "...        ...                                                ...          ...\n",
            "35882        6  50 36 17 22 23 29 33 39 34 37 37 37 39 43 48 5...  PrivateTest\n",
            "35883        3  178 174 172 173 181 188 191 194 196 199 200 20...  PrivateTest\n",
            "35884        0  17 17 16 23 28 22 19 17 25 26 20 24 31 19 27 9...  PrivateTest\n",
            "35885        3  30 28 28 29 31 30 42 68 79 81 77 67 67 71 63 6...  PrivateTest\n",
            "35886        2  19 13 14 12 13 16 21 33 50 57 71 84 97 108 122...  PrivateTest\n",
            "\n",
            "[35887 rows x 3 columns]\n"
          ],
          "name": "stdout"
        }
      ]
    },
    {
      "cell_type": "code",
      "metadata": {
        "id": "UJunOk7-i6zn",
        "colab_type": "code",
        "colab": {
          "base_uri": "https://localhost:8080/",
          "height": 86
        },
        "outputId": "caa696bb-e8e0-4185-b6f4-39076860e3d1"
      },
      "source": [
        "emotion_data.Usage.value_counts()"
      ],
      "execution_count": 5,
      "outputs": [
        {
          "output_type": "execute_result",
          "data": {
            "text/plain": [
              "Training       28709\n",
              "PrivateTest     3589\n",
              "PublicTest      3589\n",
              "Name: Usage, dtype: int64"
            ]
          },
          "metadata": {
            "tags": []
          },
          "execution_count": 5
        }
      ]
    },
    {
      "cell_type": "code",
      "metadata": {
        "id": "TG8c_bkHpDiP",
        "colab_type": "code",
        "colab": {
          "base_uri": "https://localhost:8080/",
          "height": 269
        },
        "outputId": "3228fdea-be9d-4e25-86a1-16240be78f97"
      },
      "source": [
        "#check target labels\n",
        "emotion_map = {0: 'Angry', 1: 'Digust', 2: 'Fear', 3: 'Happy', 4: 'Sad', 5: 'Surprise', 6: 'Neutral'}\n",
        "emotion_counts = emotion_data['emotion'].value_counts(sort=False).reset_index()\n",
        "emotion_counts.columns = ['emotion', 'number']\n",
        "emotion_counts['emotion'] = emotion_counts['emotion'].map(emotion_map)\n",
        "emotion_counts"
      ],
      "execution_count": 6,
      "outputs": [
        {
          "output_type": "execute_result",
          "data": {
            "text/html": [
              "<div>\n",
              "<style scoped>\n",
              "    .dataframe tbody tr th:only-of-type {\n",
              "        vertical-align: middle;\n",
              "    }\n",
              "\n",
              "    .dataframe tbody tr th {\n",
              "        vertical-align: top;\n",
              "    }\n",
              "\n",
              "    .dataframe thead th {\n",
              "        text-align: right;\n",
              "    }\n",
              "</style>\n",
              "<table border=\"1\" class=\"dataframe\">\n",
              "  <thead>\n",
              "    <tr style=\"text-align: right;\">\n",
              "      <th></th>\n",
              "      <th>emotion</th>\n",
              "      <th>number</th>\n",
              "    </tr>\n",
              "  </thead>\n",
              "  <tbody>\n",
              "    <tr>\n",
              "      <th>0</th>\n",
              "      <td>Angry</td>\n",
              "      <td>4953</td>\n",
              "    </tr>\n",
              "    <tr>\n",
              "      <th>1</th>\n",
              "      <td>Digust</td>\n",
              "      <td>547</td>\n",
              "    </tr>\n",
              "    <tr>\n",
              "      <th>2</th>\n",
              "      <td>Fear</td>\n",
              "      <td>5121</td>\n",
              "    </tr>\n",
              "    <tr>\n",
              "      <th>3</th>\n",
              "      <td>Happy</td>\n",
              "      <td>8989</td>\n",
              "    </tr>\n",
              "    <tr>\n",
              "      <th>4</th>\n",
              "      <td>Sad</td>\n",
              "      <td>6077</td>\n",
              "    </tr>\n",
              "    <tr>\n",
              "      <th>5</th>\n",
              "      <td>Surprise</td>\n",
              "      <td>4002</td>\n",
              "    </tr>\n",
              "    <tr>\n",
              "      <th>6</th>\n",
              "      <td>Neutral</td>\n",
              "      <td>6198</td>\n",
              "    </tr>\n",
              "  </tbody>\n",
              "</table>\n",
              "</div>"
            ],
            "text/plain": [
              "    emotion  number\n",
              "0     Angry    4953\n",
              "1    Digust     547\n",
              "2      Fear    5121\n",
              "3     Happy    8989\n",
              "4       Sad    6077\n",
              "5  Surprise    4002\n",
              "6   Neutral    6198"
            ]
          },
          "metadata": {
            "tags": []
          },
          "execution_count": 6
        }
      ]
    },
    {
      "cell_type": "code",
      "metadata": {
        "id": "90WGCFCjpUbG",
        "colab_type": "code",
        "colab": {
          "base_uri": "https://localhost:8080/",
          "height": 353
        },
        "outputId": "ab49726d-16f7-4cfb-bf39-613075a455b8"
      },
      "source": [
        "import seaborn as sns\n",
        "import matplotlib.pyplot as plt\n",
        "plt.figure(figsize=(6,4))\n",
        "sns.barplot(emotion_counts.emotion, emotion_counts.number)\n",
        "plt.title('Class distribution')\n",
        "plt.ylabel('Number', fontsize=12)\n",
        "plt.xlabel('Emotions', fontsize=12)\n",
        "plt.show()"
      ],
      "execution_count": 7,
      "outputs": [
        {
          "output_type": "stream",
          "text": [
            "/usr/local/lib/python3.6/dist-packages/statsmodels/tools/_testing.py:19: FutureWarning: pandas.util.testing is deprecated. Use the functions in the public API at pandas.testing instead.\n",
            "  import pandas.util.testing as tm\n"
          ],
          "name": "stderr"
        },
        {
          "output_type": "display_data",
          "data": {
            "image/png": "[encoded data removed]",
            "text/plain": [
              "<Figure size 432x288 with 1 Axes>"
            ]
          },
          "metadata": {
            "tags": [],
            "needs_background": "light"
          }
        }
      ]
    },
    {
      "cell_type": "markdown",
      "metadata": {
        "id": "ZDf6aitws6nJ",
        "colab_type": "text"
      },
      "source": [
        "**Assigning Training and Validation Sets**\n",
        "\n",
        "The data is then split into training, validation and test sets. In order to train images on the model, they are reshaped in the format [n$_h$, n$_w$, n$_c$]. As the images in dataset are in grayscale, the number of channels (n$_c$) is 1 and since the dimension of the image is 48 pixels, n$_h$ = n$_w$ = 48.\n",
        "\n",
        "Once the samples are reshaped, the training, validation and testing labels are converted into categorical format. The labels vary in the range from [0 - 6] and the type of loss defined for CNN model further is of categorical_crossentropy. Hence, the labels should be in the categorical format (one-hot encoding).\n",
        "For Example, if the first four values of Y_train are:\n",
        "\n",
        "Index , Label\n",
        "\n",
        "0 , 2\n",
        "\n",
        "1 , 3\n",
        "\n",
        "2 , 0\n",
        "\n",
        "3 , 5\n",
        "\n",
        "Then, After one-hot encoding, the Y_train will appear as follows:\n",
        "\n",
        "Index , Label\n",
        "\n",
        "0 , [0,0,1,0,0,0,0]\n",
        "\n",
        "1 , [0,0,0,1,0,0,0]\n",
        "\n",
        "2 , [1,0,0,0,0,0,0]\n",
        "\n",
        "3 , [0,0,0,0,0,1,0]\n",
        "\n",
        "\n"
      ]
    },
    {
      "cell_type": "code",
      "metadata": {
        "id": "YUeZnJdMBdnK",
        "colab_type": "code",
        "colab": {}
      },
      "source": [
        "X_train = []\n",
        "y_train = []\n",
        "X_val = []\n",
        "y_val = []\n",
        "X_test = []\n",
        "y_test = []\n",
        "for index, row in emotion_data.iterrows():\n",
        "    k = row['pixels'].split(\" \")\n",
        "    if row['Usage'] == 'Training':\n",
        "      X_train.append(np.array(k))\n",
        "      y_train.append(row['emotion'])\n",
        "    elif row['Usage'] == 'PublicTest':\n",
        "      X_val.append(np.array(k))\n",
        "      y_val.append(row['emotion'])\n",
        "    elif row['Usage'] == 'PrivateTest':\n",
        "      X_test.append(np.array(k))\n",
        "      y_test.append(row['emotion'])"
      ],
      "execution_count": 18,
      "outputs": []
    },
    {
      "cell_type": "code",
      "metadata": {
        "id": "sFVVz7lvCJl_",
        "colab_type": "code",
        "colab": {}
      },
      "source": [
        "from keras.utils import np_utils\n",
        "X_train = np.array(X_train)\n",
        "y_train = np.array(y_train)\n",
        "X_val = np.array(X_val)\n",
        "y_val = np.array(y_val)\n",
        "X_test = np.array(X_test)\n",
        "y_test = np.array(y_test)\n",
        "\n",
        "X_train = X_train.reshape(X_train.shape[0], 48, 48, 1)\n",
        "X_val = X_val.reshape(X_val.shape[0], 48, 48, 1)\n",
        "X_test = X_test.reshape(X_test.shape[0], 48, 48, 1)\n",
        "\n",
        "X_train = X_train.astype('float')\n",
        "X_val = X_val.astype('float')\n",
        "X_test = X_test.astype('float')\n",
        "\n",
        "y_train= np_utils.to_categorical(y_train, num_classes=7)\n",
        "y_val = np_utils.to_categorical(y_val, num_classes=7)\n",
        "y_test = np_utils.to_categorical(y_test, num_classes=7)"
      ],
      "execution_count": 19,
      "outputs": []
    },
    {
      "cell_type": "code",
      "metadata": {
        "id": "GtCJ2QzxFrSd",
        "colab_type": "code",
        "colab": {
          "base_uri": "https://localhost:8080/",
          "height": 121
        },
        "outputId": "09deef2a-bdce-4ceb-faea-2b5cc51c5928"
      },
      "source": [
        "X_train.shape, y_train.shape, X_val.shape, y_val.shape, X_test.shape, y_test.shape"
      ],
      "execution_count": 20,
      "outputs": [
        {
          "output_type": "execute_result",
          "data": {
            "text/plain": [
              "((28709, 48, 48, 1),\n",
              " (28709, 7),\n",
              " (3589, 48, 48, 1),\n",
              " (3589, 7),\n",
              " (3589, 48, 48, 1),\n",
              " (3589, 7))"
            ]
          },
          "metadata": {
            "tags": []
          },
          "execution_count": 20
        }
      ]
    },
    {
      "cell_type": "markdown",
      "metadata": {
        "id": "ZIJmLDd5zDSP",
        "colab_type": "text"
      },
      "source": [
        "**Sample Images Visualisation**\n",
        "\n",
        "The images in training and validation test can be visualised using imshow function of matplotlib. "
      ]
    },
    {
      "cell_type": "code",
      "metadata": {
        "id": "WSaEDwpWgcpW",
        "colab_type": "code",
        "colab": {
          "base_uri": "https://localhost:8080/",
          "height": 284
        },
        "outputId": "bc8a814d-c76b-4cd7-d105-c46cfe409073"
      },
      "source": [
        "import matplotlib.pyplot as plt\n",
        "\n",
        "index = 10\n",
        "plt.imshow(X_train.reshape(28709,48,48)[index], cmap = 'gray')\n",
        "print('y = ',str(np.squeeze(y_train[index])))\n",
        "#EMOTIONS = [\"angry\" ,\"disgust\",\"scared\", \"happy\", \"sad\", \"surprised\",\"neutral\"]"
      ],
      "execution_count": 30,
      "outputs": [
        {
          "output_type": "stream",
          "text": [
            "y =  [1. 0. 0. 0. 0. 0. 0.]\n"
          ],
          "name": "stdout"
        },
        {
          "output_type": "display_data",
          "data": {
            "image/png": "[encoded data removed]",
            "text/plain": [
              "<Figure size 432x288 with 1 Axes>"
            ]
          },
          "metadata": {
            "tags": [],
            "needs_background": "light"
          }
        }
      ]
    },
    {
      "cell_type": "code",
      "metadata": {
        "id": "xuP9gDFZrnMC",
        "colab_type": "code",
        "colab": {
          "base_uri": "https://localhost:8080/",
          "height": 284
        },
        "outputId": "052f481a-9689-43f0-c15f-ee8ff54e4ba5"
      },
      "source": [
        "index = 88\n",
        "plt.imshow(X_val.reshape(3589,48,48)[index], cmap = 'gray')"
      ],
      "execution_count": 31,
      "outputs": [
        {
          "output_type": "execute_result",
          "data": {
            "text/plain": [
              "<matplotlib.image.AxesImage at 0x7f4642370828>"
            ]
          },
          "metadata": {
            "tags": []
          },
          "execution_count": 31
        },
        {
          "output_type": "display_data",
          "data": {
            "image/png": "[encoded data removed]",
            "text/plain": [
              "<Figure size 432x288 with 1 Axes>"
            ]
          },
          "metadata": {
            "tags": [],
            "needs_background": "light"
          }
        }
      ]
    },
    {
      "cell_type": "markdown",
      "metadata": {
        "id": "eFAsycMUzY8O",
        "colab_type": "text"
      },
      "source": [
        "**Building CNN Model**\n",
        "\n",
        "The Architecture of The CNN model for training is:\n",
        "\n",
        "In -> [ [CONV2D -> ReLU -> BatchNorm]*2 -> MAXPOOL ] * 4 -> FLATTEN -> DENSE -> Out\n",
        "\n",
        "* For the CONV2D layers, usually less number of filters are taken initially, and the number increases as we move deeper in the network. \n",
        "* The filter size/ kernel size is taken as (3,3). \n",
        "* The padding is kept 'same' so that the size of image remains the same and doesn't shrink after convolution. \n",
        "* The MAXPOOL2D is mainly used in order to reduce the variance (overfitting) as it extracts the most important features (like edges) and reduces the computational complexity as it makes the image smaller.\n",
        "* L2 Regularization is added in the DENSE layers to avoid high variance. \n",
        "\n",
        "The summary of the model displays all layers along with the output shapes and number of parameters in it. \n",
        "\n",
        "\n",
        "\n"
      ]
    },
    {
      "cell_type": "code",
      "metadata": {
        "id": "rUXhwGkuCyBU",
        "colab_type": "code",
        "colab": {
          "base_uri": "https://localhost:8080/",
          "height": 124
        },
        "outputId": "81bfccdd-ccc5-4323-91a9-f23671baff58"
      },
      "source": [
        "from keras import regularizers\n",
        "model = Sequential()\n",
        "\n",
        "dim = 48\n",
        "nclasses = 7\n",
        "\n",
        "model.add(Conv2D(filters=64, kernel_size=(3,3), padding='same', activation='relu', input_shape=(dim,dim,1)))\n",
        "model.add(BatchNormalization())\n",
        "model.add(Conv2D(filters=64, kernel_size=(3,3), padding='same', activation='relu'))\n",
        "model.add(BatchNormalization())\n",
        "model.add(MaxPool2D(pool_size=(2,2), strides=(2,2)))\n",
        "\n",
        "\n",
        "model.add(Conv2D(filters=128, kernel_size=(3,3), padding='same', activation='relu'))\n",
        "model.add(BatchNormalization())\n",
        "model.add(Conv2D(filters=128, kernel_size=(3,3), padding='same', activation='relu'))\n",
        "model.add(BatchNormalization())\n",
        "model.add(MaxPool2D(pool_size=(2,2), strides=(2,2)))\n",
        "\n",
        "model.add(Conv2D(filters=256, kernel_size=(3,3), padding='same', activation='relu'))\n",
        "model.add(BatchNormalization())\n",
        "model.add(Conv2D(filters=256, kernel_size=(3,3), padding='same', activation='relu',))\n",
        "model.add(BatchNormalization())\n",
        "model.add(MaxPool2D(pool_size=(2,2), strides=(2,2)))\n",
        "\n",
        "model.add(Conv2D(filters=512, kernel_size=(3,3), padding='same', activation='relu'))\n",
        "model.add(BatchNormalization())\n",
        "model.add(Conv2D(filters=512, kernel_size=(3,3), padding='same', activation='relu',))\n",
        "model.add(BatchNormalization())\n",
        "model.add(MaxPool2D(pool_size=(2,2), strides=(2,2)))\n",
        "\n",
        "model.add(Flatten())\n",
        "model.add(Dense(1024, activation='relu', kernel_regularizer=regularizers.l2(0.01)))\n",
        "model.add(BatchNormalization())\n",
        "model.add(Dense(512, activation='relu', kernel_regularizer=regularizers.l2(0.01)))\n",
        "model.add(BatchNormalization())\n",
        "model.add(Dense(256, activation='relu', kernel_regularizer=regularizers.l2(0.01)))\n",
        "model.add(Dense(nclasses, activation='softmax'))\n"
      ],
      "execution_count": 32,
      "outputs": [
        {
          "output_type": "stream",
          "text": [
            "WARNING:tensorflow:From /tensorflow-1.15.2/python3.6/tensorflow_core/python/ops/resource_variable_ops.py:1630: calling BaseResourceVariable.__init__ (from tensorflow.python.ops.resource_variable_ops) with constraint is deprecated and will be removed in a future version.\n",
            "Instructions for updating:\n",
            "If using Keras pass *_constraint arguments to layers.\n",
            "WARNING:tensorflow:From /tensorflow-1.15.2/python3.6/keras/backend/tensorflow_backend.py:4070: The name tf.nn.max_pool is deprecated. Please use tf.nn.max_pool2d instead.\n",
            "\n"
          ],
          "name": "stdout"
        }
      ]
    },
    {
      "cell_type": "markdown",
      "metadata": {
        "id": "BTR7bpLD4SbI",
        "colab_type": "text"
      },
      "source": [
        "**Compiling the Model**\n",
        "\n"
      ]
    },
    {
      "cell_type": "code",
      "metadata": {
        "id": "8yaM3sa6gXve",
        "colab_type": "code",
        "colab": {
          "base_uri": "https://localhost:8080/",
          "height": 1000
        },
        "outputId": "26f575c3-83fa-415f-d2b2-72d0c2c1992b"
      },
      "source": [
        "model.summary()"
      ],
      "execution_count": 33,
      "outputs": [
        {
          "output_type": "stream",
          "text": [
            "Model: \"sequential_1\"\n",
            "_________________________________________________________________\n",
            "Layer (type)                 Output Shape              Param #   \n",
            "=================================================================\n",
            "conv2d_1 (Conv2D)            (None, 48, 48, 64)        640       \n",
            "_________________________________________________________________\n",
            "batch_normalization_1 (Batch (None, 48, 48, 64)        256       \n",
            "_________________________________________________________________\n",
            "conv2d_2 (Conv2D)            (None, 48, 48, 64)        36928     \n",
            "_________________________________________________________________\n",
            "batch_normalization_2 (Batch (None, 48, 48, 64)        256       \n",
            "_________________________________________________________________\n",
            "max_pooling2d_1 (MaxPooling2 (None, 24, 24, 64)        0         \n",
            "_________________________________________________________________\n",
            "conv2d_3 (Conv2D)            (None, 24, 24, 128)       73856     \n",
            "_________________________________________________________________\n",
            "batch_normalization_3 (Batch (None, 24, 24, 128)       512       \n",
            "_________________________________________________________________\n",
            "conv2d_4 (Conv2D)            (None, 24, 24, 128)       147584    \n",
            "_________________________________________________________________\n",
            "batch_normalization_4 (Batch (None, 24, 24, 128)       512       \n",
            "_________________________________________________________________\n",
            "max_pooling2d_2 (MaxPooling2 (None, 12, 12, 128)       0         \n",
            "_________________________________________________________________\n",
            "conv2d_5 (Conv2D)            (None, 12, 12, 256)       295168    \n",
            "_________________________________________________________________\n",
            "batch_normalization_5 (Batch (None, 12, 12, 256)       1024      \n",
            "_________________________________________________________________\n",
            "conv2d_6 (Conv2D)            (None, 12, 12, 256)       590080    \n",
            "_________________________________________________________________\n",
            "batch_normalization_6 (Batch (None, 12, 12, 256)       1024      \n",
            "_________________________________________________________________\n",
            "max_pooling2d_3 (MaxPooling2 (None, 6, 6, 256)         0         \n",
            "_________________________________________________________________\n",
            "conv2d_7 (Conv2D)            (None, 6, 6, 512)         1180160   \n",
            "_________________________________________________________________\n",
            "batch_normalization_7 (Batch (None, 6, 6, 512)         2048      \n",
            "_________________________________________________________________\n",
            "conv2d_8 (Conv2D)            (None, 6, 6, 512)         2359808   \n",
            "_________________________________________________________________\n",
            "batch_normalization_8 (Batch (None, 6, 6, 512)         2048      \n",
            "_________________________________________________________________\n",
            "max_pooling2d_4 (MaxPooling2 (None, 3, 3, 512)         0         \n",
            "_________________________________________________________________\n",
            "flatten_1 (Flatten)          (None, 4608)              0         \n",
            "_________________________________________________________________\n",
            "dense_1 (Dense)              (None, 1024)              4719616   \n",
            "_________________________________________________________________\n",
            "batch_normalization_9 (Batch (None, 1024)              4096      \n",
            "_________________________________________________________________\n",
            "dense_2 (Dense)              (None, 512)               524800    \n",
            "_________________________________________________________________\n",
            "batch_normalization_10 (Batc (None, 512)               2048      \n",
            "_________________________________________________________________\n",
            "dense_3 (Dense)              (None, 256)               131328    \n",
            "_________________________________________________________________\n",
            "dense_4 (Dense)              (None, 7)                 1799      \n",
            "=================================================================\n",
            "Total params: 10,075,591\n",
            "Trainable params: 10,068,679\n",
            "Non-trainable params: 6,912\n",
            "_________________________________________________________________\n"
          ],
          "name": "stdout"
        }
      ]
    },
    {
      "cell_type": "markdown",
      "metadata": {
        "id": "9HQBt1MH81Rj",
        "colab_type": "text"
      },
      "source": [
        "**Compiling The Model**\n",
        "\n",
        "*   **Optimizer** : The 'sgd' optimizer or the Gradient Descent (with momentum) optimizer is used to minimize the cost function. The default learning rate is 0.01 . \n",
        "*   **Loss Function** : It is a measure of overall loss in the network after the parameters are assigned during the forward propagation. It indicated how well the parameters were choosen. It requires the labels to be encoded as one-hot encodings.\n",
        "*   **Metrics** : It refers to which metric the network should achieve, the most common one is 'accuracy' .\n",
        "\n"
      ]
    },
    {
      "cell_type": "code",
      "metadata": {
        "id": "mmcWhyIiEddA",
        "colab_type": "code",
        "colab": {}
      },
      "source": [
        "model.compile(optimizer='sgd',loss='categorical_crossentropy',metrics=['accuracy'])"
      ],
      "execution_count": 34,
      "outputs": []
    },
    {
      "cell_type": "code",
      "metadata": {
        "id": "nkp8PTfi60LD",
        "colab_type": "code",
        "colab": {}
      },
      "source": [
        "lr_reduction = ReduceLROnPlateau(monitor='val_accuracy', \n",
        "                                 patience=3, \n",
        "                                 verbose=1, \n",
        "                                 factor=0.5, \n",
        "                                 min_lr=0.00001)"
      ],
      "execution_count": 35,
      "outputs": []
    },
    {
      "cell_type": "markdown",
      "metadata": {
        "id": "-TptXLklBPg9",
        "colab_type": "text"
      },
      "source": [
        "**Other Parameters**\n",
        "\n",
        "\n",
        "\n",
        "*   **Early Stopping** : It is a form of regularization to avoid overfitting of data. This callback will stop the training if there is no improvement in the validation loss or when there is degradation in the validation loss. \n",
        "*   **Data Augmentation** : It is a technique to make the dataset bigger artificially. The most common ways of doing it including rotating images, zooming in small size and shifting images horizontally and vertically.\n",
        "\n"
      ]
    },
    {
      "cell_type": "code",
      "metadata": {
        "id": "rzH3G4JYlIqj",
        "colab_type": "code",
        "colab": {}
      },
      "source": [
        "from keras.callbacks import EarlyStopping\n",
        "es = EarlyStopping(monitor='val_loss', patience = 10, mode = 'min', restore_best_weights=True)"
      ],
      "execution_count": 36,
      "outputs": []
    },
    {
      "cell_type": "code",
      "metadata": {
        "id": "IOpEadi17Koi",
        "colab_type": "code",
        "colab": {}
      },
      "source": [
        "datagen = ImageDataGenerator(\n",
        "          featurewise_center=False,            # set input mean to 0 over the dataset\n",
        "          samplewise_center=False,             # set each sample mean to 0\n",
        "          featurewise_std_normalization=False, # divide inputs by std of the dataset\n",
        "          samplewise_std_normalization=False,  # divide each input by its std\n",
        "          zca_whitening=False,                 # apply ZCA whitening\n",
        "          rotation_range=10,                   # randomly rotate images in the range (degrees, 0 to 180)\n",
        "          zoom_range = 0.1,                    # Randomly zoom image \n",
        "          width_shift_range=0.1,               # randomly shift images horizontally (fraction of total width)\n",
        "          height_shift_range=0.1,              # randomly shift images vertically (fraction of total height)\n",
        "          horizontal_flip=False,               # randomly flip images\n",
        "          vertical_flip=False)                 # randomly flip images\n",
        "\n",
        "datagen.fit(X_train)"
      ],
      "execution_count": 37,
      "outputs": []
    },
    {
      "cell_type": "code",
      "metadata": {
        "id": "x8Zj0oSH7StI",
        "colab_type": "code",
        "colab": {}
      },
      "source": [
        "epochs = 20\n",
        "batch_size = 32"
      ],
      "execution_count": 38,
      "outputs": []
    },
    {
      "cell_type": "markdown",
      "metadata": {
        "id": "zqlJ_HqtEpgw",
        "colab_type": "text"
      },
      "source": [
        "**Fit the Model**\n",
        "\n",
        "Since there is data augmentation, the fitting function changes from fit (when there is no data augmentation) to fit_generator. "
      ]
    },
    {
      "cell_type": "code",
      "metadata": {
        "id": "VL-t1p2oEjCt",
        "colab_type": "code",
        "colab": {
          "base_uri": "https://localhost:8080/",
          "height": 766
        },
        "outputId": "fe4cb529-26a8-42d3-fa35-d2087fe91a4f"
      },
      "source": [
        "history = model.fit_generator(datagen.flow(X_train,y_train, batch_size=batch_size),\n",
        "                              epochs=epochs, \n",
        "                              validation_data=(X_val,y_val),\n",
        "                              verbose=1, \n",
        "                              steps_per_epoch=X_train.shape[0] // batch_size, \n",
        "                              callbacks=[es])"
      ],
      "execution_count": 39,
      "outputs": [
        {
          "output_type": "stream",
          "text": [
            "WARNING:tensorflow:From /tensorflow-1.15.2/python3.6/keras/backend/tensorflow_backend.py:422: The name tf.global_variables is deprecated. Please use tf.compat.v1.global_variables instead.\n",
            "\n",
            "Epoch 1/20\n",
            "897/897 [==============================] - 30s 33ms/step - loss: 24.5140 - accuracy: 0.2850 - val_loss: 20.5998 - val_accuracy: 0.3410\n",
            "Epoch 2/20\n",
            "897/897 [==============================] - 23s 25ms/step - loss: 17.4611 - accuracy: 0.3870 - val_loss: 14.7399 - val_accuracy: 0.3834\n",
            "Epoch 3/20\n",
            "897/897 [==============================] - 23s 25ms/step - loss: 12.5330 - accuracy: 0.4612 - val_loss: 10.5650 - val_accuracy: 0.5013\n",
            "Epoch 4/20\n",
            "897/897 [==============================] - 23s 25ms/step - loss: 9.0882 - accuracy: 0.5119 - val_loss: 7.8640 - val_accuracy: 0.4829\n",
            "Epoch 5/20\n",
            "897/897 [==============================] - 23s 25ms/step - loss: 6.6880 - accuracy: 0.5439 - val_loss: 5.8535 - val_accuracy: 0.5026\n",
            "Epoch 6/20\n",
            "897/897 [==============================] - 23s 25ms/step - loss: 5.0125 - accuracy: 0.5660 - val_loss: 4.4605 - val_accuracy: 0.5517\n",
            "Epoch 7/20\n",
            "897/897 [==============================] - 23s 25ms/step - loss: 3.8379 - accuracy: 0.5834 - val_loss: 3.4364 - val_accuracy: 0.5704\n",
            "Epoch 8/20\n",
            "897/897 [==============================] - 23s 25ms/step - loss: 3.0135 - accuracy: 0.5971 - val_loss: 2.7406 - val_accuracy: 0.5795\n",
            "Epoch 9/20\n",
            "897/897 [==============================] - 23s 25ms/step - loss: 2.4362 - accuracy: 0.6068 - val_loss: 2.3084 - val_accuracy: 0.5667\n",
            "Epoch 10/20\n",
            "897/897 [==============================] - 23s 25ms/step - loss: 2.0290 - accuracy: 0.6152 - val_loss: 2.0014 - val_accuracy: 0.5637\n",
            "Epoch 11/20\n",
            "897/897 [==============================] - 23s 25ms/step - loss: 1.7446 - accuracy: 0.6206 - val_loss: 1.7493 - val_accuracy: 0.5910\n",
            "Epoch 12/20\n",
            "897/897 [==============================] - 23s 26ms/step - loss: 1.5293 - accuracy: 0.6287 - val_loss: 1.5662 - val_accuracy: 0.6013\n",
            "Epoch 13/20\n",
            "897/897 [==============================] - 23s 25ms/step - loss: 1.3840 - accuracy: 0.6387 - val_loss: 1.4509 - val_accuracy: 0.6018\n",
            "Epoch 14/20\n",
            "897/897 [==============================] - 23s 26ms/step - loss: 1.2726 - accuracy: 0.6468 - val_loss: 1.3619 - val_accuracy: 0.5993\n",
            "Epoch 15/20\n",
            "897/897 [==============================] - 23s 25ms/step - loss: 1.1901 - accuracy: 0.6555 - val_loss: 1.2815 - val_accuracy: 0.6166\n",
            "Epoch 16/20\n",
            "897/897 [==============================] - 23s 25ms/step - loss: 1.1233 - accuracy: 0.6638 - val_loss: 1.2589 - val_accuracy: 0.6144\n",
            "Epoch 17/20\n",
            "897/897 [==============================] - 23s 25ms/step - loss: 1.0742 - accuracy: 0.6705 - val_loss: 1.2555 - val_accuracy: 0.5960\n",
            "Epoch 18/20\n",
            "897/897 [==============================] - 23s 25ms/step - loss: 1.0347 - accuracy: 0.6776 - val_loss: 1.2297 - val_accuracy: 0.6066\n",
            "Epoch 19/20\n",
            "897/897 [==============================] - 23s 25ms/step - loss: 1.0034 - accuracy: 0.6845 - val_loss: 1.2077 - val_accuracy: 0.6133\n",
            "Epoch 20/20\n",
            "897/897 [==============================] - 23s 25ms/step - loss: 0.9679 - accuracy: 0.6939 - val_loss: 1.2012 - val_accuracy: 0.6091\n"
          ],
          "name": "stdout"
        }
      ]
    },
    {
      "cell_type": "markdown",
      "metadata": {
        "id": "x9jEmhMOFa5e",
        "colab_type": "text"
      },
      "source": [
        "**Plotting the Loss and Accuracy**\n",
        "\n",
        "Once the model is trained, the loss and accuracy are plotted in training and validation sets to see its progress over the epochs and detect problems if any. For this particular case, the training loss decreases, which means the network is learning, and there is no substantial difference between the training loss and validation loss wich indicates no overfitting. When the loss is very low (~ 0.96), the accuracy is still just about 70 % indicating that the model has slight high bias. "
      ]
    },
    {
      "cell_type": "code",
      "metadata": {
        "id": "5a3tasbWV_He",
        "colab_type": "code",
        "colab": {
          "base_uri": "https://localhost:8080/",
          "height": 265
        },
        "outputId": "e9430427-3bb5-4cf7-d544-e02bb2281da1"
      },
      "source": [
        "fig, ax = plt.subplots(2,1)\n",
        "ax[0].plot(history.history['loss'], color='b', label=\"Training loss\")\n",
        "ax[0].plot(history.history['val_loss'], color='r', label=\"Validation loss\",axes =ax[0])\n",
        "ax[0].grid(color='black', linestyle='-', linewidth=0.25)\n",
        "legend = ax[0].legend(loc='best', shadow=True)\n",
        "\n",
        "ax[1].plot(history.history['accuracy'], color='b', label=\"Training accuracy\")\n",
        "ax[1].plot(history.history['val_accuracy'], color='r',label=\"Validation accuracy\")\n",
        "ax[1].grid(color='black', linestyle='-', linewidth=0.25)\n",
        "legend = ax[1].legend(loc='best', shadow=True)"
      ],
      "execution_count": 40,
      "outputs": [
        {
          "output_type": "display_data",
          "data": {
            "image/png": "[encoded data removed]",
            "text/plain": [
              "<Figure size 432x288 with 2 Axes>"
            ]
          },
          "metadata": {
            "tags": [],
            "needs_background": "light"
          }
        }
      ]
    },
    {
      "cell_type": "markdown",
      "metadata": {
        "id": "8rf0Ke4iHzuM",
        "colab_type": "text"
      },
      "source": [
        "**Predict Accuracy on Test Set**\n",
        "\n",
        "The following is the code to further predict results using the Test dataset and the trained model parameters. Further accuracy can be determined by comparing the predicted results with Test labels."
      ]
    },
    {
      "cell_type": "code",
      "metadata": {
        "id": "cmFPWQconnOt",
        "colab_type": "code",
        "colab": {
          "base_uri": "https://localhost:8080/",
          "height": 34
        },
        "outputId": "6ccc250d-dfe1-472b-a42c-91b7d4e248ac"
      },
      "source": [
        "from sklearn.metrics import accuracy_score\n",
        "test_true = np.argmax(y_test, axis=1)\n",
        "test_pred = np.argmax(model.predict(X_test), axis=1)\n",
        "print(\"CNN Model Accuracy on test set: {:.4f}\".format(accuracy_score(test_true, test_pred)))"
      ],
      "execution_count": 41,
      "outputs": [
        {
          "output_type": "stream",
          "text": [
            "CNN Model Accuracy on test set: 0.6180\n"
          ],
          "name": "stdout"
        }
      ]
    },
    {
      "cell_type": "markdown",
      "metadata": {
        "id": "tJ1PCTpRIRRZ",
        "colab_type": "text"
      },
      "source": [
        "**Save Model and Model Weights**\n",
        "\n",
        "The model is saved as JSON file and the model weights are saved to and hd5 file. These files can be later accessed to make predictions rather than training the CNN Model again. "
      ]
    },
    {
      "cell_type": "code",
      "metadata": {
        "id": "YUWq1DNaHesD",
        "colab_type": "code",
        "colab": {
          "base_uri": "https://localhost:8080/",
          "height": 34
        },
        "outputId": "3a064155-977b-475c-bf62-645312934e9f"
      },
      "source": [
        "model_json = model.to_json()\n",
        "with open(\"/content/drive/My Drive/ER_training/model.json\", \"w\") as json_file:\n",
        "  json_file.write(model_json)\n",
        "  model.save_weights(\"/content/drive/My Drive/ER_training/model.h5\")\n",
        "print(\"Saved model to disk\")"
      ],
      "execution_count": null,
      "outputs": [
        {
          "output_type": "stream",
          "text": [
            "Saved model to disk\n"
          ],
          "name": "stdout"
        }
      ]
    }
  ]
}